{
 "cells": [
  {
   "cell_type": "code",
   "execution_count": 1,
   "id": "85b925ea",
   "metadata": {
    "ExecuteTime": {
     "end_time": "2021-11-18T13:45:47.015123Z",
     "start_time": "2021-11-18T13:45:47.010572Z"
    }
   },
   "outputs": [],
   "source": [
    "import numpy as np\n",
    "import random\n",
    "import copy"
   ]
  },
  {
   "cell_type": "markdown",
   "id": "d19ea03e",
   "metadata": {},
   "source": [
    "# 구현체"
   ]
  },
  {
   "cell_type": "code",
   "execution_count": 2,
   "id": "fcd2c547",
   "metadata": {
    "ExecuteTime": {
     "end_time": "2021-11-18T13:45:47.507627Z",
     "start_time": "2021-11-18T13:45:47.475946Z"
    }
   },
   "outputs": [],
   "source": [
    "JOBLESS = 1\n",
    "MAFIA = 2\n",
    "POLICE = 3\n",
    "MEDIC = 4\n",
    "\n",
    "CITIZEN = 5\n",
    "\n",
    "POLICE_FORCE = 1.0#경찰한테 발각되었을 때 가중치 \n",
    "'''\n",
    "CITIZEN = JOBLIESS + POLICE + MEDIC\n",
    "\n",
    "\n",
    "마피아 우승 조건: 시민의 수 = 마피아 수 \n",
    "시민 우승 조건: 마피아 수 = 0 when 시민의 수 > 0\n",
    "'''\n",
    "\n",
    "class Mafia_Game:\n",
    "    def __init__(self, num_of_participant, job_list, is_police_smart):\n",
    "        self.num_of_participant = num_of_participant\n",
    "        self.job_list = job_list\n",
    "        self.is_police_smart = is_police_smart\n",
    "    \n",
    "    def initialize_list_for_new_game(self):\n",
    "        self.before_death = []\n",
    "        self.weights = []\n",
    "        self.police_known_mafia = []\n",
    "        self.alive_mafia = 0\n",
    "        self.alive_citizen = 0\n",
    "        self.alive_police = 0\n",
    "        self.alive_medic = 0\n",
    "        self.winner = ''\n",
    "\n",
    "    def get_a_job(self):\n",
    "        '''\n",
    "        참가자에게 주어진 직업 수에 맞춰 임의로 직업을 부여한다 \n",
    "        '''\n",
    "        self.initialize_list_for_new_game()\n",
    "        people_job_array = np.ones(self.num_of_participant, dtype=np.int16)\n",
    "        self.weights = np.ones(self.num_of_participant, dtype=np.float16)\n",
    "        num_of_mafia = self.job_list[0]\n",
    "        num_of_police = self.job_list[1]\n",
    "        num_of_medic = self.job_list[2]\n",
    "    \n",
    "        all_job_num = sum(self.job_list)\n",
    "        \n",
    "        try:\n",
    "            choiced_idx = np.array(random.sample(range(0,self.num_of_participant),all_job_num))\n",
    "        except ValueError:\n",
    "            print(\"num of participants is smaller than job_list value\")\n",
    "    \n",
    "        mafia_idx = np.random.choice(choiced_idx, num_of_mafia, replace=False)\n",
    "    \n",
    "        after_choiced_mafia_idx = []\n",
    "        for idx in choiced_idx:\n",
    "            if idx not in mafia_idx:\n",
    "                after_choiced_mafia_idx.append(idx)\n",
    "    \n",
    "        police_idx = np.random.choice(after_choiced_mafia_idx, num_of_police, replace=False)\n",
    "    \n",
    "        medic_idx = []\n",
    "        for idx in after_choiced_mafia_idx:\n",
    "            if idx not in police_idx:\n",
    "                medic_idx.append(idx)\n",
    "    \n",
    "        people_job_array[mafia_idx] = 2\n",
    "        if len(police_idx) != 0 :\n",
    "            people_job_array[police_idx] = 3 \n",
    "        if len(medic_idx) != 0:\n",
    "            people_job_array[medic_idx] = 4\n",
    "        return people_job_array, mafia_idx, police_idx, medic_idx    \n",
    "    \n",
    "    def kill_during_afternoon(self, participants):\n",
    "        '''\n",
    "        이미 죽은 사람을 제외하고, 누구든 죽을 수 있다 \n",
    "        '''\n",
    "        alive_person_idx = np.where(participants > 0)[0]\n",
    "        alive_person_weights = self.weights[alive_person_idx]\n",
    "        die_person_idx = random.choices(population = alive_person_idx, weights = alive_person_weights , k=1) # 1명 랜덤 제거 \n",
    "        die_person_job = participants[die_person_idx]\n",
    "        try:\n",
    "            die_person_job < 0\n",
    "        except:\n",
    "            print('zombie issue during afternoon')\n",
    "            return None\n",
    "        participants[die_person_idx] = -die_person_job\n",
    "        after_death = participants\n",
    "        self.weights[die_person_idx] = 0\n",
    "        return after_death, die_person_job[0]\n",
    "        \n",
    "    \n",
    "    def kill_during_night(self, participants):\n",
    "        '''\n",
    "        살아있는 시민 중에 한 명이 죽게된다 \n",
    "        '''\n",
    "        current_mafia_idx = np.where(participants == MAFIA)[0]\n",
    "        participants[current_mafia_idx] = 0 #마피아 제외\n",
    "        alive_participants_idx = np.where(participants > 0)[0] #살아있는 시민의 idx \n",
    "        selected_person_idx = np.random.choice(alive_participants_idx, 1)\n",
    "        die_citizen_idx = selected_person_idx\n",
    "        die_citizen_job = participants[selected_person_idx]\n",
    "        try:\n",
    "            die_citizen_job < 0\n",
    "        except:\n",
    "            print('zombie issue during night')\n",
    "            return None\n",
    "        participants[die_citizen_idx] = -die_citizen_job\n",
    "        participants[current_mafia_idx] = MAFIA #마피아 복구 \n",
    "        after_death = participants\n",
    "        self.weights[die_citizen_idx] = 0\n",
    "#         after_death = np.delete(participants, die_citizen_idx)\n",
    "#         self.weights = np.delete(self.weights, die_citizen_idx)\n",
    "        return after_death, die_citizen_job[0], die_citizen_idx\n",
    "\n",
    "    def police_time(self, participants, mafia_idx, police_idx):\n",
    "        '''\n",
    "        경찰이 한 명이라도 살아있아면 임의로 한 명을 지목하여 직업을 확인할 수 있다. \n",
    "        만약 마피아를 확인했다면, 해당 마피아의 지목 가중치가 1 증가한다 \n",
    "        경찰이 선택했던 마피아를 또 선택하는 경우와, \n",
    "        선택한 마피아를 제외하고 선택하는 경우로 나뉜다. \n",
    "        이는 is_police_smart의 여부에 따라 달라진다 \n",
    "        '''\n",
    "        #경찰이 살아있을 때\n",
    "        if self.alive_police > 0: \n",
    "            participants[police_idx] = 0 #경찰끼리 서로 안다 \n",
    "            if self.is_police_smart and len(self.police_known_mafia) >0 :\n",
    "                participants[self.police_known_mafia] = 0 #이미 확인한 마피아 제외 \n",
    "            alive_participants = np.where(participants >0)[0]\n",
    "            if len(alive_participants) == 0:\n",
    "                return\n",
    "            selected_person_idx = np.random.choice(alive_participants, 1)\n",
    "            if participants[selected_person_idx] == MAFIA:\n",
    "                if selected_person_idx not in self.police_known_mafia:\n",
    "                    self.police_known_mafia.append(selected_person_idx[0])\n",
    "                    self.weights[selected_person_idx] += POLICE_FORCE\n",
    "        return\n",
    "    \n",
    "    def medic_time(self, participants, choiced_citizen_idx, medic_idx):\n",
    "        if self.alive_medic > 0:\n",
    "            '''\n",
    "            메딕은 서로 치료할 수 있다. 물론 마피아를 선택할 수 있다. \n",
    "            하지만 밤에는 시민만 죽기 때문에 밤에 지목당한 시민을 선택했을 때 (무직, 경찰, 메딕) 중 누구라도 살릴 수 있다 \n",
    "            '''\n",
    "            medic_choice_idx = np.random.choice(len(participants), 1)\n",
    "            if choiced_citizen_idx == medic_choice_idx:\n",
    "                self.before_death[choiced_citizen_idx] = -(self.before_death[choiced_citizen_idx])\n",
    "                self.weights[choiced_citizen_idx] = 1\n",
    "        \n",
    "    def update(self, job):\n",
    "        if job == MAFIA:\n",
    "            self.alive_mafia -= 1\n",
    "        else:\n",
    "            self.alive_citizen -= 1\n",
    "            if job == POLICE:\n",
    "                self.alive_police -= 1\n",
    "            elif job == MEDIC:\n",
    "                self.alive_medic -= 1\n",
    "            else:\n",
    "                pass\n",
    "\n",
    "    def run(self):\n",
    "        participants, mafia, police, medic = self.get_a_job()\n",
    "        self.before_death = participants\n",
    "        self.alive_mafia = len(mafia)\n",
    "        self.alive_police = len(police)\n",
    "        self.alive_medic = len(medic)\n",
    "        self.alive_citizen = len(participants) - len(mafia)\n",
    "        \n",
    "        while True:\n",
    "            next_day = copy.deepcopy(self.before_death)\n",
    "            \n",
    "            after_afternoon, job = self.kill_during_afternoon(next_day)\n",
    "            self.update(job)\n",
    "            self.before_death = after_afternoon\n",
    "            \n",
    "            before_night = copy.deepcopy(self.before_death)\n",
    "\n",
    "            after_night, job, choiced_citizen_idx = self.kill_during_night(before_night)\n",
    "            self.update(job)\n",
    "            self.before_death = after_night\n",
    "            \n",
    "            before_police_time = copy.deepcopy(self.before_death)\n",
    "\n",
    "            self.police_time(before_police_time, mafia, police)\n",
    "            \n",
    "            before_medic_time = copy.deepcopy(self.before_death)\n",
    "            \n",
    "            self.medic_time(before_medic_time, choiced_citizen_idx, medic)\n",
    "            \n",
    "            if self.alive_mafia == 0:\n",
    "                self.winner = CITIZEN\n",
    "                break \n",
    "            elif self.alive_citizen <= self.alive_mafia:\n",
    "                self.winner = MAFIA\n",
    "                break\n",
    "            else:\n",
    "                pass\n",
    "#                 print('next day')\n",
    "    \n",
    "        return self.winner"
   ]
  },
  {
   "cell_type": "markdown",
   "id": "c3f47354",
   "metadata": {},
   "source": [
    "# 기본 모델 사용 예시"
   ]
  },
  {
   "cell_type": "code",
   "execution_count": 3,
   "id": "4d817217",
   "metadata": {
    "ExecuteTime": {
     "end_time": "2021-11-18T13:45:52.865637Z",
     "start_time": "2021-11-18T13:45:48.094944Z"
    }
   },
   "outputs": [
    {
     "name": "stdout",
     "output_type": "stream",
     "text": [
      "mean_mafia_win_percentage:  0.7493\n",
      "mean_citizen_win_percentage:  0.2507\n"
     ]
    }
   ],
   "source": [
    "'''\n",
    "기본 모델 사용 예시 \n",
    "'''\n",
    "\n",
    "mafia_game = Mafia_Game(10,[2,1,1],False)\n",
    "\n",
    "\n",
    "mafia_win_percentage_list = []\n",
    "citizen_win_percentage_list = []\n",
    "\n",
    "for _ in range(1,101):\n",
    "    '''\n",
    "    평균 승률 계산을 위한 100번의 실행 \n",
    "    '''\n",
    "    mafia_win = 0\n",
    "    citizen_win = 0\n",
    "    for _ in range(1,101):\n",
    "        '''\n",
    "        마피아 게임 100판\n",
    "        '''\n",
    "        rtn = mafia_game.run()\n",
    "        if rtn == CITIZEN:\n",
    "            citizen_win += 1\n",
    "        else:\n",
    "            mafia_win +=1 \n",
    "    \n",
    "    mafia_win_percentage = mafia_win / (mafia_win + citizen_win)\n",
    "    citizen_win_percentage = citizen_win / (mafia_win + citizen_win)\n",
    "#     print('mafia win percentage: ', mafia_win_percentage)\n",
    "#     print('citizen win percentage: ', citizen_win_percentage)\n",
    "        \n",
    "    mafia_win_percentage_list.append(mafia_win_percentage)\n",
    "    citizen_win_percentage_list.append(citizen_win_percentage)\n",
    "\n",
    "mean_mafia_win_percentage = np.array(mafia_win_percentage_list).mean()\n",
    "mean_citizen_win_percentage = np.array(citizen_win_percentage_list).mean()\n",
    "\n",
    "print('mean_mafia_win_percentage: ', mean_mafia_win_percentage)\n",
    "print('mean_citizen_win_percentage: ', mean_citizen_win_percentage)"
   ]
  },
  {
   "cell_type": "markdown",
   "id": "63b2ca20",
   "metadata": {},
   "source": [
    "\n",
    "# 마피아와 시미만 존재할 때 마피아 수에 따른 변화"
   ]
  },
  {
   "cell_type": "code",
   "execution_count": 78,
   "id": "c2ecf945",
   "metadata": {
    "ExecuteTime": {
     "end_time": "2021-11-18T16:22:01.541540Z",
     "start_time": "2021-11-18T16:21:10.864429Z"
    }
   },
   "outputs": [
    {
     "name": "stdout",
     "output_type": "stream",
     "text": [
      "-------------mafia_num :  1 평균승률 --------------------\n",
      "mean_mafia_win_percentage:  0.34580000000000005\n",
      "mean_citizen_win_percentage:  0.6542\n",
      "-------------mafia_num :  2 평균승률 --------------------\n",
      "mean_mafia_win_percentage:  0.5994\n",
      "mean_citizen_win_percentage:  0.4005999999999999\n",
      "-------------mafia_num :  3 평균승률 --------------------\n",
      "mean_mafia_win_percentage:  0.7712\n",
      "mean_citizen_win_percentage:  0.2288\n",
      "-------------mafia_num :  4 평균승률 --------------------\n",
      "mean_mafia_win_percentage:  0.8753\n",
      "mean_citizen_win_percentage:  0.1247\n",
      "-------------mafia_num :  5 평균승률 --------------------\n",
      "mean_mafia_win_percentage:  0.9411999999999999\n",
      "mean_citizen_win_percentage:  0.05879999999999999\n",
      "-------------mafia_num :  6 평균승률 --------------------\n",
      "mean_mafia_win_percentage:  0.9814000000000002\n",
      "mean_citizen_win_percentage:  0.018600000000000002\n",
      "-------------mafia_num :  7 평균승률 --------------------\n",
      "mean_mafia_win_percentage:  0.9941\n",
      "mean_citizen_win_percentage:  0.005900000000000001\n",
      "-------------mafia_num :  8 평균승률 --------------------\n",
      "mean_mafia_win_percentage:  0.9986\n",
      "mean_citizen_win_percentage:  0.0014000000000000002\n",
      "-------------mafia_num :  9 평균승률 --------------------\n",
      "mean_mafia_win_percentage:  0.9999000000000001\n",
      "mean_citizen_win_percentage:  0.0001\n",
      "\n",
      " {1: 0.34580000000000005, 2: 0.5994, 3: 0.7712, 4: 0.8753, 5: 0.9411999999999999, 6: 0.9814000000000002, 7: 0.9941, 8: 0.9986, 9: 0.9999000000000001}\n"
     ]
    }
   ],
   "source": [
    "'''\n",
    "마피아와 시민만 존재할 때, 마피아 수에 의한 마피아 승률 \n",
    "'''\n",
    "\n",
    "mafia_win_percentage_by_mafia_num = dict()\n",
    "mafia_win_percentage_list_by_mafia_num = dict()\n",
    "\n",
    "for mafia_num in range(1,10):\n",
    "    mafia_game = Mafia_Game(20,[mafia_num,0,0],False)\n",
    "\n",
    "\n",
    "    mafia_win_percentage_list = []\n",
    "    citizen_win_percentage_list = []\n",
    "\n",
    "    for _ in range(1,101):\n",
    "        mafia_win = 0\n",
    "        citizen_win = 0\n",
    "        for _ in range(1,101):\n",
    "            rtn = mafia_game.run()\n",
    "            if rtn == CITIZEN:\n",
    "                citizen_win += 1\n",
    "            else:\n",
    "                mafia_win +=1 \n",
    "    \n",
    "        mafia_win_percentage = mafia_win / (mafia_win + citizen_win)\n",
    "        citizen_win_percentage = citizen_win / (mafia_win + citizen_win)\n",
    "        \n",
    "        mafia_win_percentage_list.append(mafia_win_percentage)\n",
    "        citizen_win_percentage_list.append(citizen_win_percentage)\n",
    "        \n",
    "\n",
    "    mafia_win_percentage_list_by_mafia_num[mafia_num] = mafia_win_percentage_list\n",
    "    mean_mafia_win_percentage = np.array(mafia_win_percentage_list).mean()\n",
    "    mean_citizen_win_percentage = np.array(citizen_win_percentage_list).mean()\n",
    "\n",
    "    print('-------------mafia_num : ',mafia_num, '마피아 승률','--------------------')\n",
    "    print('mean_mafia_win_percentage: ', mean_mafia_win_percentage)\n",
    "    print('mean_citizen_win_percentage: ', mean_citizen_win_percentage)\n",
    "    mafia_win_percentage_by_mafia_num[mafia_num] = mean_mafia_win_percentage\n",
    "    \n",
    "print('\\n',mafia_win_percentage_by_mafia_num)\n",
    "# print('\\n',mafia_win_percentage_list_by_mafia_num)"
   ]
  },
  {
   "cell_type": "code",
   "execution_count": 135,
   "id": "ec237a00",
   "metadata": {
    "ExecuteTime": {
     "end_time": "2021-11-18T18:03:22.147030Z",
     "start_time": "2021-11-18T18:03:21.764860Z"
    }
   },
   "outputs": [
    {
     "data": {
      "image/png": "[encoded data removed]",
      "text/plain": [
       "<Figure size 504x504 with 1 Axes>"
      ]
     },
     "metadata": {
      "needs_background": "light"
     },
     "output_type": "display_data"
    }
   ],
   "source": [
    "import matplotlib.pyplot as plt\n",
    "\n",
    "from importlib import reload\n",
    "\n",
    "plt.figure(figsize=(7,7))\n",
    "plt.rc('axes', labelsize=20) \n",
    "\n",
    "for key, value in mafia_win_percentage_list_by_mafia_num.items():\n",
    "    plt.scatter(x=np.full((1,len(value)), key, dtype=int), y=value)\n",
    "\n",
    "plt.legend(mafia_win_percentage_list_by_mafia_num.keys(), title=\"mafia num\")\n",
    "plt.xlabel(\"Mafia Number\")\n",
    "plt.ylabel(\"Mafia Win Rate\")\n",
    "plt.show()\n",
    "\n"
   ]
  },
  {
   "cell_type": "code",
   "execution_count": 80,
   "id": "11e37312",
   "metadata": {
    "ExecuteTime": {
     "end_time": "2021-11-18T16:23:39.378112Z",
     "start_time": "2021-11-18T16:23:39.206090Z"
    }
   },
   "outputs": [
    {
     "data": {
      "image/png": "[encoded data removed]",
      "text/plain": [
       "<Figure size 504x504 with 1 Axes>"
      ]
     },
     "metadata": {
      "needs_background": "light"
     },
     "output_type": "display_data"
    }
   ],
   "source": [
    "lists = sorted(mafia_win_percentage_by_mafia_num.items()) # sorted by key, return a list of tuples\n",
    "\n",
    "x, y = zip(*lists) # unpack a list of pairs into two tuples\n",
    "plt.figure(figsize=(7,7))\n",
    "plt.rc('axes', labelsize=20) \n",
    "plt.xlabel(\"Mafia Number\")\n",
    "plt.ylabel(\"Mafia Win Rate\")\n",
    "plt.plot(x, y)\n",
    "plt.show()\n"
   ]
  },
  {
   "cell_type": "markdown",
   "id": "4022de38",
   "metadata": {},
   "source": [
    "# 마피아, 경찰, 일반 시민이 있을 때 \n",
    "## 경찰이 지목한 마피아를 기억하지 못하는 경우"
   ]
  },
  {
   "cell_type": "code",
   "execution_count": 142,
   "id": "771ac3fd",
   "metadata": {
    "ExecuteTime": {
     "end_time": "2021-11-18T18:34:47.654516Z",
     "start_time": "2021-11-18T18:21:57.589759Z"
    }
   },
   "outputs": [
    {
     "name": "stdout",
     "output_type": "stream",
     "text": [
      "------------------ police_num:  0  마피아 평균승률------------------\n",
      "\n",
      " {1: 0.3531, 2: 0.6072000000000001, 3: 0.7775, 4: 0.8814000000000002, 5: 0.9465999999999998, 6: 0.9789999999999999, 7: 0.9939, 8: 0.9987999999999999, 9: 1.0}\n",
      "------------------ police_num:  1  마피아 평균승률------------------\n",
      "\n",
      " {1: 0.29359999999999997, 2: 0.5347, 3: 0.7164999999999998, 4: 0.8389, 5: 0.9207000000000001, 6: 0.9651000000000001, 7: 0.9872, 8: 0.9976, 9: 0.9986999999999999}\n",
      "------------------ police_num:  2  마피아 평균승률------------------\n",
      "\n",
      " {1: 0.2815, 2: 0.4997, 3: 0.6855999999999999, 4: 0.8136, 5: 0.9073, 6: 0.96, 7: 0.9840000000000002, 8: 0.9967999999999999, 9: 0.9995}\n",
      "------------------ police_num:  3  마피아 평균승률------------------\n",
      "\n",
      " {1: 0.26870000000000005, 2: 0.4927, 3: 0.6653999999999999, 4: 0.8104, 5: 0.8960000000000002, 6: 0.9541, 7: 0.9841, 8: 0.9969, 9: 0.9993000000000001}\n",
      "------------------ police_num:  4  마피아 평균승률------------------\n",
      "\n",
      " {1: 0.2584, 2: 0.48269999999999996, 3: 0.6595, 4: 0.7935, 5: 0.8876000000000001, 6: 0.9495999999999997, 7: 0.9811000000000001, 8: 0.9952000000000001, 9: 0.9995}\n",
      "------------------ police_num:  5  마피아 평균승률------------------\n",
      "\n",
      " {1: 0.24720000000000003, 2: 0.4684999999999999, 3: 0.6459999999999999, 4: 0.7875999999999997, 5: 0.8887999999999999, 6: 0.9434999999999999, 7: 0.9802999999999998, 8: 0.9942, 9: 0.9989000000000001}\n",
      "------------------ police_num:  6  마피아 평균승률------------------\n",
      "\n",
      " {1: 0.23740000000000003, 2: 0.4546, 3: 0.6428999999999999, 4: 0.7783, 5: 0.8799000000000001, 6: 0.9442999999999999, 7: 0.9795, 8: 0.9936, 9: 0.9992}\n",
      "------------------ police_num:  7  마피아 평균승률------------------\n",
      "\n",
      " {1: 0.24229999999999996, 2: 0.4454000000000001, 3: 0.6203, 4: 0.7780999999999999, 5: 0.8779999999999998, 6: 0.9408, 7: 0.9778, 8: 0.9944999999999999, 9: 0.9992}\n",
      "------------------ police_num:  8  마피아 평균승률------------------\n",
      "\n",
      " {1: 0.231, 2: 0.44229999999999997, 3: 0.6177999999999999, 4: 0.7624000000000001, 5: 0.8773000000000001, 6: 0.9431999999999999, 7: 0.9797, 8: 0.9944, 9: 0.9989}\n",
      "------------------ police_num:  9  마피아 평균승률------------------\n",
      "\n",
      " {1: 0.22480000000000003, 2: 0.4333000000000001, 3: 0.6172000000000001, 4: 0.7478, 5: 0.8649999999999999, 6: 0.9357, 7: 0.9761, 8: 0.9934000000000001, 9: 0.9992000000000002}\n",
      "------------------ police_num:  10  마피아 평균승률------------------\n",
      "\n",
      " {1: 0.2253, 2: 0.4188000000000001, 3: 0.6099, 4: 0.7479, 5: 0.8608, 6: 0.9298000000000001, 7: 0.9734999999999999, 8: 0.9913000000000001, 9: 0.9991}\n",
      "------------------ police_num:  11  마피아 평균승률------------------\n",
      "\n",
      " {1: 0.21210000000000004, 2: 0.4125000000000001, 3: 0.5921, 4: 0.7309, 5: 0.8526, 6: 0.9249, 7: 0.9728, 8: 0.9915999999999999, 9: 0.9991}\n",
      "{0: {1: 0.3531, 2: 0.6072000000000001, 3: 0.7775, 4: 0.8814000000000002, 5: 0.9465999999999998, 6: 0.9789999999999999, 7: 0.9939, 8: 0.9987999999999999, 9: 1.0}, 1: {1: 0.29359999999999997, 2: 0.5347, 3: 0.7164999999999998, 4: 0.8389, 5: 0.9207000000000001, 6: 0.9651000000000001, 7: 0.9872, 8: 0.9976, 9: 0.9986999999999999}, 2: {1: 0.2815, 2: 0.4997, 3: 0.6855999999999999, 4: 0.8136, 5: 0.9073, 6: 0.96, 7: 0.9840000000000002, 8: 0.9967999999999999, 9: 0.9995}, 3: {1: 0.26870000000000005, 2: 0.4927, 3: 0.6653999999999999, 4: 0.8104, 5: 0.8960000000000002, 6: 0.9541, 7: 0.9841, 8: 0.9969, 9: 0.9993000000000001}, 4: {1: 0.2584, 2: 0.48269999999999996, 3: 0.6595, 4: 0.7935, 5: 0.8876000000000001, 6: 0.9495999999999997, 7: 0.9811000000000001, 8: 0.9952000000000001, 9: 0.9995}, 5: {1: 0.24720000000000003, 2: 0.4684999999999999, 3: 0.6459999999999999, 4: 0.7875999999999997, 5: 0.8887999999999999, 6: 0.9434999999999999, 7: 0.9802999999999998, 8: 0.9942, 9: 0.9989000000000001}, 6: {1: 0.23740000000000003, 2: 0.4546, 3: 0.6428999999999999, 4: 0.7783, 5: 0.8799000000000001, 6: 0.9442999999999999, 7: 0.9795, 8: 0.9936, 9: 0.9992}, 7: {1: 0.24229999999999996, 2: 0.4454000000000001, 3: 0.6203, 4: 0.7780999999999999, 5: 0.8779999999999998, 6: 0.9408, 7: 0.9778, 8: 0.9944999999999999, 9: 0.9992}, 8: {1: 0.231, 2: 0.44229999999999997, 3: 0.6177999999999999, 4: 0.7624000000000001, 5: 0.8773000000000001, 6: 0.9431999999999999, 7: 0.9797, 8: 0.9944, 9: 0.9989}, 9: {1: 0.22480000000000003, 2: 0.4333000000000001, 3: 0.6172000000000001, 4: 0.7478, 5: 0.8649999999999999, 6: 0.9357, 7: 0.9761, 8: 0.9934000000000001, 9: 0.9992000000000002}, 10: {1: 0.2253, 2: 0.4188000000000001, 3: 0.6099, 4: 0.7479, 5: 0.8608, 6: 0.9298000000000001, 7: 0.9734999999999999, 8: 0.9913000000000001, 9: 0.9991}, 11: {1: 0.21210000000000004, 2: 0.4125000000000001, 3: 0.5921, 4: 0.7309, 5: 0.8526, 6: 0.9249, 7: 0.9728, 8: 0.9915999999999999, 9: 0.9991}}\n"
     ]
    }
   ],
   "source": [
    "'''\n",
    "여기서부터는 마피아의 평균 승률만 관찰 \n",
    "'''\n",
    "mafia_win_percentage_by_stupid_police_num = dict() # 마피아의 평균 승률을 기록하기 위함 \n",
    "\n",
    "for police_num in range(0,12):\n",
    "\n",
    "    mafia_win_percentage_by_mafia_num = dict()\n",
    "    mafia_win_percentage_list_by_mafia_num = dict()\n",
    "\n",
    "    for mafia_num in range(1,10):\n",
    "        mafia_game = Mafia_Game(20,[mafia_num,police_num,0],False)\n",
    "\n",
    "\n",
    "        mafia_win_percentage_list = []\n",
    "        citizen_win_percentage_list = []\n",
    "\n",
    "        for _ in range(1,101):\n",
    "            mafia_win = 0\n",
    "            citizen_win = 0\n",
    "            for _ in range(1,101):\n",
    "                rtn = mafia_game.run()\n",
    "                if rtn == CITIZEN:\n",
    "                    citizen_win += 1\n",
    "                else:\n",
    "                    mafia_win +=1 \n",
    "    \n",
    "            mafia_win_percentage = mafia_win / (mafia_win + citizen_win)\n",
    "            citizen_win_percentage = citizen_win / (mafia_win + citizen_win)\n",
    "        \n",
    "            mafia_win_percentage_list.append(mafia_win_percentage)\n",
    "            citizen_win_percentage_list.append(citizen_win_percentage)\n",
    "        \n",
    "\n",
    "        mafia_win_percentage_list_by_mafia_num[mafia_num] = mafia_win_percentage_list\n",
    "        mean_mafia_win_percentage = np.array(mafia_win_percentage_list).mean()\n",
    "        mean_citizen_win_percentage = np.array(citizen_win_percentage_list).mean()\n",
    "        mafia_win_percentage_by_mafia_num[mafia_num] = mean_mafia_win_percentage\n",
    "    \n",
    "    print(\"------------------\",'police_num: ',police_num,' 마피아 평균승률------------------')\n",
    "    print('\\n',mafia_win_percentage_by_mafia_num)\n",
    "    mafia_win_percentage_by_stupid_police_num[police_num] = mafia_win_percentage_by_mafia_num\n",
    "print(mafia_win_percentage_by_stupid_police_num)"
   ]
  },
  {
   "cell_type": "code",
   "execution_count": 143,
   "id": "fad7d057",
   "metadata": {
    "ExecuteTime": {
     "end_time": "2021-11-18T18:34:57.521963Z",
     "start_time": "2021-11-18T18:34:57.298263Z"
    }
   },
   "outputs": [
    {
     "data": {
      "image/png": "[encoded data removed]",
      "text/plain": [
       "<Figure size 504x504 with 1 Axes>"
      ]
     },
     "metadata": {
      "needs_background": "light"
     },
     "output_type": "display_data"
    }
   ],
   "source": [
    "plt.figure(figsize=(7,7))\n",
    "plt.rc('axes', labelsize=20) \n",
    "plt.xlabel(\"Mafia Number\")\n",
    "plt.ylabel(\"Mafia Win Rate\")\n",
    "\n",
    "\n",
    "for police_num, mafia_mean_win_rate in mafia_win_percentage_by_stupid_police_num.items():\n",
    "    lists = sorted(mafia_mean_win_rate.items()) # sorted by key, return a list of tuples\n",
    "    x, y = zip(*lists) # unpack a list of pairs into two tuples\n",
    "    \n",
    "    if police_num ==0 or police_num ==1 or police_num == 11:\n",
    "        plt.plot(x, y, label=police_num)\n",
    "\n",
    "\n",
    "plt.legend(title='police number')\n",
    "plt.show()\n",
    "plt.close()"
   ]
  },
  {
   "cell_type": "markdown",
   "id": "23cc816b",
   "metadata": {},
   "source": [
    "## 경찰이 지목한 마피아를 기억할 때 "
   ]
  },
  {
   "cell_type": "code",
   "execution_count": 145,
   "id": "132535cd",
   "metadata": {
    "ExecuteTime": {
     "end_time": "2021-11-19T01:29:09.333723Z",
     "start_time": "2021-11-19T01:16:20.729639Z"
    }
   },
   "outputs": [
    {
     "name": "stdout",
     "output_type": "stream",
     "text": [
      "------------------ police_num:  0  마피아 평균승률------------------\n",
      "\n",
      " {1: 0.35359999999999997, 2: 0.6033000000000001, 3: 0.7767000000000001, 4: 0.8802, 5: 0.9458, 6: 0.9773, 7: 0.9927000000000001, 8: 0.9987999999999999, 9: 0.9996}\n",
      "------------------ police_num:  1  마피아 평균승률------------------\n",
      "\n",
      " {1: 0.29120000000000007, 2: 0.5367999999999999, 3: 0.7099000000000001, 4: 0.8348, 5: 0.9162000000000002, 6: 0.9621999999999998, 7: 0.9885, 8: 0.9967, 9: 0.9994}\n",
      "------------------ police_num:  2  마피아 평균승률------------------\n",
      "\n",
      " {1: 0.28730000000000006, 2: 0.5095000000000001, 3: 0.6785, 4: 0.8140999999999998, 5: 0.9081, 6: 0.9600000000000002, 7: 0.9851000000000001, 8: 0.9949000000000001, 9: 0.9994}\n",
      "------------------ police_num:  3  마피아 평균승률------------------\n",
      "\n",
      " {1: 0.26099999999999995, 2: 0.4851, 3: 0.6729999999999999, 4: 0.8027, 5: 0.8905000000000001, 6: 0.9501999999999999, 7: 0.9825, 8: 0.9956999999999999, 9: 0.9996}\n",
      "------------------ police_num:  4  마피아 평균승률------------------\n",
      "\n",
      " {1: 0.2599, 2: 0.48150000000000004, 3: 0.6581999999999999, 4: 0.7945, 5: 0.8848, 6: 0.9456, 7: 0.9800000000000001, 8: 0.9947999999999999, 9: 0.9991}\n",
      "------------------ police_num:  5  마피아 평균승률------------------\n",
      "\n",
      " {1: 0.24839999999999995, 2: 0.46380000000000005, 3: 0.6505999999999998, 4: 0.7842000000000001, 5: 0.8818, 6: 0.9420999999999999, 7: 0.9793000000000001, 8: 0.9933999999999998, 9: 0.9988000000000001}\n",
      "------------------ police_num:  6  마피아 평균승률------------------\n",
      "\n",
      " {1: 0.2394, 2: 0.4576, 3: 0.6235999999999999, 4: 0.7797000000000002, 5: 0.8770999999999998, 6: 0.9413999999999999, 7: 0.9777000000000001, 8: 0.9945, 9: 0.9992}\n",
      "------------------ police_num:  7  마피아 평균승률------------------\n",
      "\n",
      " {1: 0.24600000000000002, 2: 0.4387, 3: 0.6330000000000001, 4: 0.7681000000000001, 5: 0.8729, 6: 0.9403999999999998, 7: 0.9764000000000002, 8: 0.9934000000000001, 9: 0.9986}\n",
      "------------------ police_num:  8  마피아 평균승률------------------\n",
      "\n",
      " {1: 0.22710000000000005, 2: 0.43540000000000006, 3: 0.6231, 4: 0.7639, 5: 0.8641, 6: 0.9347999999999999, 7: 0.9727999999999999, 8: 0.9928000000000001, 9: 0.9984000000000001}\n",
      "------------------ police_num:  9  마피아 평균승률------------------\n",
      "\n",
      " {1: 0.2253, 2: 0.4238, 3: 0.6114999999999999, 4: 0.7454000000000001, 5: 0.8536, 6: 0.9339, 7: 0.9692999999999999, 8: 0.9937, 9: 0.9987999999999999}\n",
      "------------------ police_num:  10  마피아 평균승률------------------\n",
      "\n",
      " {1: 0.21650000000000003, 2: 0.4181, 3: 0.5994999999999999, 4: 0.7399, 5: 0.848, 6: 0.924, 7: 0.9706999999999998, 8: 0.9924, 9: 0.9987999999999999}\n",
      "------------------ police_num:  11  마피아 평균승률------------------\n",
      "\n",
      " {1: 0.2127, 2: 0.4150000000000001, 3: 0.5861999999999999, 4: 0.7221000000000002, 5: 0.8397999999999999, 6: 0.9168000000000001, 7: 0.9670999999999998, 8: 0.9916999999999999, 9: 0.9986000000000002}\n",
      "{0: {1: 0.35359999999999997, 2: 0.6033000000000001, 3: 0.7767000000000001, 4: 0.8802, 5: 0.9458, 6: 0.9773, 7: 0.9927000000000001, 8: 0.9987999999999999, 9: 0.9996}, 1: {1: 0.29120000000000007, 2: 0.5367999999999999, 3: 0.7099000000000001, 4: 0.8348, 5: 0.9162000000000002, 6: 0.9621999999999998, 7: 0.9885, 8: 0.9967, 9: 0.9994}, 2: {1: 0.28730000000000006, 2: 0.5095000000000001, 3: 0.6785, 4: 0.8140999999999998, 5: 0.9081, 6: 0.9600000000000002, 7: 0.9851000000000001, 8: 0.9949000000000001, 9: 0.9994}, 3: {1: 0.26099999999999995, 2: 0.4851, 3: 0.6729999999999999, 4: 0.8027, 5: 0.8905000000000001, 6: 0.9501999999999999, 7: 0.9825, 8: 0.9956999999999999, 9: 0.9996}, 4: {1: 0.2599, 2: 0.48150000000000004, 3: 0.6581999999999999, 4: 0.7945, 5: 0.8848, 6: 0.9456, 7: 0.9800000000000001, 8: 0.9947999999999999, 9: 0.9991}, 5: {1: 0.24839999999999995, 2: 0.46380000000000005, 3: 0.6505999999999998, 4: 0.7842000000000001, 5: 0.8818, 6: 0.9420999999999999, 7: 0.9793000000000001, 8: 0.9933999999999998, 9: 0.9988000000000001}, 6: {1: 0.2394, 2: 0.4576, 3: 0.6235999999999999, 4: 0.7797000000000002, 5: 0.8770999999999998, 6: 0.9413999999999999, 7: 0.9777000000000001, 8: 0.9945, 9: 0.9992}, 7: {1: 0.24600000000000002, 2: 0.4387, 3: 0.6330000000000001, 4: 0.7681000000000001, 5: 0.8729, 6: 0.9403999999999998, 7: 0.9764000000000002, 8: 0.9934000000000001, 9: 0.9986}, 8: {1: 0.22710000000000005, 2: 0.43540000000000006, 3: 0.6231, 4: 0.7639, 5: 0.8641, 6: 0.9347999999999999, 7: 0.9727999999999999, 8: 0.9928000000000001, 9: 0.9984000000000001}, 9: {1: 0.2253, 2: 0.4238, 3: 0.6114999999999999, 4: 0.7454000000000001, 5: 0.8536, 6: 0.9339, 7: 0.9692999999999999, 8: 0.9937, 9: 0.9987999999999999}, 10: {1: 0.21650000000000003, 2: 0.4181, 3: 0.5994999999999999, 4: 0.7399, 5: 0.848, 6: 0.924, 7: 0.9706999999999998, 8: 0.9924, 9: 0.9987999999999999}, 11: {1: 0.2127, 2: 0.4150000000000001, 3: 0.5861999999999999, 4: 0.7221000000000002, 5: 0.8397999999999999, 6: 0.9168000000000001, 7: 0.9670999999999998, 8: 0.9916999999999999, 9: 0.9986000000000002}}\n"
     ]
    }
   ],
   "source": [
    "mafia_win_percentage_by_smart_police_num = dict() # 마피아의 평균 승률을 기록하기 위함 \n",
    "\n",
    "for police_num in range(0,12):\n",
    "\n",
    "    mafia_win_percentage_by_mafia_num = dict()\n",
    "    mafia_win_percentage_list_by_mafia_num = dict()\n",
    "\n",
    "    for mafia_num in range(1,10):\n",
    "        mafia_game = Mafia_Game(20,[mafia_num,police_num,0],True)\n",
    "\n",
    "\n",
    "        mafia_win_percentage_list = []\n",
    "        citizen_win_percentage_list = []\n",
    "\n",
    "        for _ in range(1,101):\n",
    "            mafia_win = 0\n",
    "            citizen_win = 0\n",
    "            for _ in range(1,101):\n",
    "                rtn = mafia_game.run()\n",
    "                if rtn == CITIZEN:\n",
    "                    citizen_win += 1\n",
    "                else:\n",
    "                    mafia_win +=1 \n",
    "    \n",
    "            mafia_win_percentage = mafia_win / (mafia_win + citizen_win)\n",
    "            citizen_win_percentage = citizen_win / (mafia_win + citizen_win)\n",
    "        \n",
    "            mafia_win_percentage_list.append(mafia_win_percentage)\n",
    "            citizen_win_percentage_list.append(citizen_win_percentage)\n",
    "        \n",
    "\n",
    "        mafia_win_percentage_list_by_mafia_num[mafia_num] = mafia_win_percentage_list\n",
    "        mean_mafia_win_percentage = np.array(mafia_win_percentage_list).mean()\n",
    "        mean_citizen_win_percentage = np.array(citizen_win_percentage_list).mean()\n",
    "        mafia_win_percentage_by_mafia_num[mafia_num] = mean_mafia_win_percentage\n",
    "    \n",
    "    print(\"------------------\",'police_num: ',police_num,' 마피아 평균승률------------------')\n",
    "    print('\\n',mafia_win_percentage_by_mafia_num)\n",
    "    mafia_win_percentage_by_smart_police_num[police_num] = mafia_win_percentage_by_mafia_num\n",
    "print(mafia_win_percentage_by_smart_police_num)"
   ]
  },
  {
   "cell_type": "code",
   "execution_count": 146,
   "id": "2b6e2941",
   "metadata": {
    "ExecuteTime": {
     "end_time": "2021-11-19T01:32:08.080000Z",
     "start_time": "2021-11-19T01:32:07.822789Z"
    },
    "scrolled": true
   },
   "outputs": [
    {
     "data": {
      "image/png": "[encoded data removed]",
      "text/plain": [
       "<Figure size 504x504 with 1 Axes>"
      ]
     },
     "metadata": {
      "needs_background": "light"
     },
     "output_type": "display_data"
    }
   ],
   "source": [
    "plt.figure(figsize=(7,7))\n",
    "plt.rc('axes', labelsize=20) \n",
    "plt.xlabel(\"Mafia Number\")\n",
    "plt.ylabel(\"Mafia Win Rate\")\n",
    "\n",
    "\n",
    "for police_num, mafia_mean_win_rate in mafia_win_percentage_by_smart_police_num.items():\n",
    "    lists = sorted(mafia_mean_win_rate.items()) # sorted by key, return a list of tuples\n",
    "    x, y = zip(*lists) # unpack a list of pairs into two tuples\n",
    "    \n",
    "    if police_num ==0 or police_num ==1 or police_num == 11:\n",
    "        plt.plot(x, y, label=police_num)\n",
    "\n",
    "\n",
    "plt.legend(title='police number')\n",
    "plt.show()\n",
    "plt.close()"
   ]
  },
  {
   "cell_type": "markdown",
   "id": "da0684a5",
   "metadata": {},
   "source": [
    "# 경찰이 똑똑할 때와 아닐 때 비교 "
   ]
  },
  {
   "cell_type": "code",
   "execution_count": 193,
   "id": "75194f9b",
   "metadata": {
    "ExecuteTime": {
     "end_time": "2021-11-19T03:59:17.454604Z",
     "start_time": "2021-11-19T03:59:17.235185Z"
    }
   },
   "outputs": [
    {
     "name": "stdout",
     "output_type": "stream",
     "text": [
      "{1: 0.2127, 2: 0.4150000000000001, 3: 0.5861999999999999, 4: 0.7221000000000002, 5: 0.8397999999999999, 6: 0.9168000000000001, 7: 0.9670999999999998, 8: 0.9916999999999999, 9: 0.9986000000000002} \n",
      "\n",
      "{1: 0.21210000000000004, 2: 0.4125000000000001, 3: 0.5921, 4: 0.7309, 5: 0.8526, 6: 0.9249, 7: 0.9728, 8: 0.9915999999999999, 9: 0.9991} \n",
      "\n"
     ]
    },
    {
     "data": {
      "image/png": "[encoded data removed]",
      "text/plain": [
       "<Figure size 504x504 with 1 Axes>"
      ]
     },
     "metadata": {
      "needs_background": "light"
     },
     "output_type": "display_data"
    }
   ],
   "source": [
    "compare_police_intellect = dict ()\n",
    "\n",
    "for i in range(0,(len(mafia_win_percentage_by_smart_police_num))):\n",
    "    compare_police_intellect[i] = [mafia_win_percentage_by_smart_police_num[i], mafia_win_percentage_by_stupid_police_num[i]]\n",
    "    \n",
    "compare_police_num_11 = compare_police_intellect[11]\n",
    "compare_police_num_5 = compare_police_intellect[5]\n",
    "compare_police_num_1 = compare_police_intellect[1]\n",
    "\n",
    "# print(compare_police_num_5)\n",
    "\n",
    "plt.figure(figsize=(7,7))\n",
    "plt.rc('axes', labelsize=20) \n",
    "plt.xlabel(\"Mafia Number\")\n",
    "plt.ylabel(\"Mafia Win Rate\")\n",
    "\n",
    "is_police_smart = 'Samrt'\n",
    "\n",
    "for percent_dict in compare_police_num_11:\n",
    "    print(percent_dict, '\\n')\n",
    "    lists = sorted(percent_dict.items())\n",
    "    x, y = zip(*lists)\n",
    "    plt.plot(x, y, label = is_police_smart)\n",
    "    is_police_smart = 'Stupid'\n",
    "\n",
    "plt.legend(title=\"is police smart\")\n",
    "plt.show()    \n",
    "\n"
   ]
  },
  {
   "cell_type": "code",
   "execution_count": 157,
   "id": "15c83de8",
   "metadata": {
    "ExecuteTime": {
     "end_time": "2021-11-19T02:39:38.858707Z",
     "start_time": "2021-11-19T02:39:38.850482Z"
    }
   },
   "outputs": [
    {
     "name": "stdout",
     "output_type": "stream",
     "text": [
      "1\n",
      "2\n",
      "3\n",
      "4\n",
      "5\n",
      "6\n",
      "7\n",
      "8\n",
      "9\n"
     ]
    }
   ],
   "source": [
    "for i in range(1,10):\n",
    "    print(i)"
   ]
  },
  {
   "cell_type": "code",
   "execution_count": null,
   "id": "4e8b2b7b",
   "metadata": {},
   "outputs": [],
   "source": []
  }
 ],
 "metadata": {
  "kernelspec": {
   "display_name": "Python 3",
   "language": "python",
   "name": "python3"
  },
  "language_info": {
   "codemirror_mode": {
    "name": "ipython",
    "version": 3
   },
   "file_extension": ".py",
   "mimetype": "text/x-python",
   "name": "python",
   "nbconvert_exporter": "python",
   "pygments_lexer": "ipython3",
   "version": "3.8.8"
  },
  "toc": {
   "base_numbering": 1,
   "nav_menu": {},
   "number_sections": true,
   "sideBar": true,
   "skip_h1_title": false,
   "title_cell": "Table of Contents",
   "title_sidebar": "Contents",
   "toc_cell": false,
   "toc_position": {},
   "toc_section_display": true,
   "toc_window_display": false
  },
  "varInspector": {
   "cols": {
    "lenName": 16,
    "lenType": 16,
    "lenVar": 40
   },
   "kernels_config": {
    "python": {
     "delete_cmd_postfix": "",
     "delete_cmd_prefix": "del ",
     "library": "var_list.py",
     "varRefreshCmd": "print(var_dic_list())"
    },
    "r": {
     "delete_cmd_postfix": ") ",
     "delete_cmd_prefix": "rm(",
     "library": "var_list.r",
     "varRefreshCmd": "cat(var_dic_list()) "
    }
   },
   "types_to_exclude": [
    "module",
    "function",
    "builtin_function_or_method",
    "instance",
    "_Feature"
   ],
   "window_display": false
  }
 },
 "nbformat": 4,
 "nbformat_minor": 5
}
